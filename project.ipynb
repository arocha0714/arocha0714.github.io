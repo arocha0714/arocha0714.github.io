{
 "cells": [
  {
   "cell_type": "code",
   "execution_count": 2,
   "id": "c64f8d69",
   "metadata": {},
   "outputs": [],
   "source": [
    "\n",
    "# Integrate sqlite with Python \n",
    "import sqlite3\n",
    "# Connect to the database (or create it if it doesn't exist)\n",
    "conn = sqlite3.connect('/Users/alyssarocha/Desktop/AD 599/Project/northwind.db')\n",
    "cursor = conn.cursor()\n"
   ]
  },
  {
   "cell_type": "code",
   "execution_count": 3,
   "id": "9e5491df",
   "metadata": {},
   "outputs": [
    {
     "name": "stdout",
     "output_type": "stream",
     "text": [
      "Tables in the database:\n",
      "Categories\n",
      "sqlite_sequence\n",
      "CustomerCustomerDemo\n",
      "CustomerDemographics\n",
      "Customers\n",
      "Employees\n",
      "EmployeeTerritories\n",
      "Order Details\n",
      "Orders\n",
      "Products\n",
      "Regions\n",
      "Shippers\n",
      "Suppliers\n",
      "Territories\n"
     ]
    }
   ],
   "source": [
    "cursor.execute(\"SELECT name FROM sqlite_master WHERE type='table';\")\n",
    "tables = cursor.fetchall()\n",
    "\n",
    "print(\"Tables in the database:\")\n",
    "for table in tables:\n",
    "    print(table[0])"
   ]
  },
  {
   "cell_type": "code",
   "execution_count": 7,
   "id": "6736598b",
   "metadata": {},
   "outputs": [
    {
     "name": "stdout",
     "output_type": "stream",
     "text": [
      "[(0, 'ProductID', 'INTEGER', 1, None, 1), (1, 'ProductName', 'TEXT', 1, None, 0), (2, 'SupplierID', 'INTEGER', 0, None, 0), (3, 'CategoryID', 'INTEGER', 0, None, 0), (4, 'QuantityPerUnit', 'TEXT', 0, None, 0), (5, 'UnitPrice', 'NUMERIC', 0, '0', 0), (6, 'UnitsInStock', 'INTEGER', 0, '0', 0), (7, 'UnitsOnOrder', 'INTEGER', 0, '0', 0), (8, 'ReorderLevel', 'INTEGER', 0, '0', 0), (9, 'Discontinued', 'TEXT', 1, \"'0'\", 0)]\n"
     ]
    }
   ],
   "source": [
    "cursor.execute(\"PRAGMA table_info(Products)\")\n",
    "print(cursor.fetchall())"
   ]
  }
 ],
 "metadata": {
  "kernelspec": {
   "display_name": "venv",
   "language": "python",
   "name": "python3"
  },
  "language_info": {
   "codemirror_mode": {
    "name": "ipython",
    "version": 3
   },
   "file_extension": ".py",
   "mimetype": "text/x-python",
   "name": "python",
   "nbconvert_exporter": "python",
   "pygments_lexer": "ipython3",
   "version": "3.9.7"
  }
 },
 "nbformat": 4,
 "nbformat_minor": 5
}
